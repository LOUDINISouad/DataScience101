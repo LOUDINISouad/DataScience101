{
 "cells": [
  {
   "cell_type": "markdown",
   "metadata": {},
   "source": [
    "# Numpy tutorial"
   ]
  },
  {
   "cell_type": "markdown",
   "metadata": {},
   "source": [
    "NumPy empowers rapid computation in Python by leveraging an underlying C implementation, resulting in exceptional speed. Its primary asset is the `ndarray` object, ensuring homogeneity of data types within arrays, thereby requiring elements to be of a singular data type. This design contributes to the efficiency and performance that makes NumPy a powerful tool for numerical operations in Python."
   ]
  },
  {
   "cell_type": "code",
   "execution_count": 2,
   "metadata": {},
   "outputs": [
    {
     "name": "stdout",
     "output_type": "stream",
     "text": [
      "Vector: [1 2 3 4]\n",
      "Shape: (4,)\n",
      "Dim: 1\n",
      "Data type: int64\n"
     ]
    }
   ],
   "source": [
    "import numpy as np\n",
    "\n",
    "vector = np.array([1, 2, 3, 4])\n",
    "print(\"Vector: {}\".format(vector))\n",
    "# Every array will have a shape. That is, its dimensions\n",
    "print(\"Shape: {}\".format(vector.shape))\n",
    "# Print number of dimensions\n",
    "print(\"Dim: {}\".format(vector.ndim))\n",
    "print(\"Data type: {}\".format(vector.dtype))"
   ]
  },
  {
   "cell_type": "markdown",
   "metadata": {},
   "source": [
    "Numpy utilizes representations with dimensions specified as \n",
    "\n",
    "`(depth, rows, columns)`. \n",
    "\n",
    "Therefore, a 3D array characterized by 3 rows, 2 columns, and 2 depth will have the shape `(2, 3, 2)`."
   ]
  },
  {
   "cell_type": "code",
   "execution_count": 3,
   "metadata": {},
   "outputs": [
    {
     "name": "stdout",
     "output_type": "stream",
     "text": [
      "[[[ 1  2]\n",
      "  [ 3  4]\n",
      "  [ 5  6]]\n",
      "\n",
      " [[ 7  8]\n",
      "  [ 9 10]\n",
      "  [11 12]]]\n"
     ]
    }
   ],
   "source": [
    "v = np.array([1, 2, 3, 4, 5, 6, 7, 8, 9, 10, 11, 12])\n",
    "v.shape = (2, 3, 2)\n",
    "print(v)"
   ]
  },
  {
   "cell_type": "code",
   "execution_count": 4,
   "metadata": {},
   "outputs": [
    {
     "name": "stdout",
     "output_type": "stream",
     "text": [
      "[[[0. 0.]\n",
      "  [0. 0.]\n",
      "  [0. 0.]]\n",
      "\n",
      " [[0. 0.]\n",
      "  [0. 0.]\n",
      "  [0. 0.]]]\n"
     ]
    }
   ],
   "source": [
    "v = np.zeros((2, 3, 2))\n",
    "print(v)"
   ]
  },
  {
   "cell_type": "markdown",
   "metadata": {},
   "source": [
    "## arange\n",
    "\n",
    "The [`arange` function](https://numpy.org/doc/stable/reference/generated/numpy.arange.html) is similar to Python's `range` function. If the data type is not specified, in many cases it will be `np.foat64`. \n",
    "\n",
    "**Exercice** : create an array with integers from 0 to 10, then from 10 to 20 "
   ]
  },
  {
   "cell_type": "code",
   "execution_count": 5,
   "metadata": {},
   "outputs": [
    {
     "name": "stdout",
     "output_type": "stream",
     "text": [
      "[0 1 2 3 4 5 6 7 8 9]\n"
     ]
    }
   ],
   "source": [
    "# a = \n",
    "print(a)"
   ]
  },
  {
   "cell_type": "code",
   "execution_count": 6,
   "metadata": {},
   "outputs": [
    {
     "name": "stdout",
     "output_type": "stream",
     "text": [
      "[10 11 12 13 14 15 16 17 18 19]\n"
     ]
    }
   ],
   "source": [
    "# a = \n",
    "print(a)"
   ]
  },
  {
   "cell_type": "markdown",
   "metadata": {},
   "source": [
    "## zeros, zeros_like\n",
    "\n",
    "[`zeros(dim)`](https://numpy.org/doc/stable/reference/generated/numpy.zeros.html) will return a np.array of `dim` dimensions initialised with 0. Note that `dim` should be a `tuple`. \n",
    "\n",
    "[`zeros_like(array)`](https://numpy.org/doc/stable/reference/generated/numpy.zeros_like.html) will return a np.array of same dimensions as of `array` initialised with zeros. \n",
    "\n",
    "**Exercice** : create a (4,4) array with zeros and then an array similar to `array_example` but with zeros everywhere\n"
   ]
  },
  {
   "cell_type": "code",
   "execution_count": 7,
   "metadata": {},
   "outputs": [
    {
     "name": "stdout",
     "output_type": "stream",
     "text": [
      "Zeros\n",
      "A: [[0. 0. 0. 0.]\n",
      " [0. 0. 0. 0.]\n",
      " [0. 0. 0. 0.]\n",
      " [0. 0. 0. 0.]]\n",
      "B: [[0. 0.]\n",
      " [0. 0.]]\n"
     ]
    }
   ],
   "source": [
    "print(\"Zeros\")\n",
    "# a = \n",
    "print(\"A: {}\".format(a))\n",
    "\n",
    "array_example = np.array([[3., 4.], [9, 0.]])\n",
    "# b = \n",
    "print(\"B: {}\".format(b))"
   ]
  },
  {
   "cell_type": "markdown",
   "metadata": {},
   "source": [
    "`ones` and `ones_like` share identical functionality, initializing arrays with ones. Similarly, `empty` and `empty_like` create numpy arrays without initialization (resulting in faster execution), defaulting to garbage values for all array elements.\n",
    "\n",
    "**Exercice** : do the previous exercice with those functions\n"
   ]
  },
  {
   "cell_type": "code",
   "execution_count": 10,
   "metadata": {},
   "outputs": [
    {
     "name": "stdout",
     "output_type": "stream",
     "text": [
      "\n",
      "Ones\n",
      "A: [[1. 1. 1. 1.]\n",
      " [1. 1. 1. 1.]\n",
      " [1. 1. 1. 1.]\n",
      " [1. 1. 1. 1.]]\n",
      "B: [[1. 1.]\n",
      " [1. 1.]]\n",
      "\n",
      "Empty\n",
      "C: [[1. 1. 1. 1.]\n",
      " [1. 1. 1. 1.]\n",
      " [1. 1. 1. 1.]\n",
      " [1. 1. 1. 1.]]\n",
      "D: [[3. 4.]\n",
      " [9. 0.]]\n"
     ]
    }
   ],
   "source": [
    "print(\"\\nOnes\")\n",
    "\n",
    "# a = \n",
    "print(\"A: {}\".format(a))\n",
    "\n",
    "array_example = np.array([[3., 4.], [9, 0.]])\n",
    "# b = \n",
    "print(\"B: {}\".format(b))\n",
    "\n",
    "print(\"\\nEmpty\")\n",
    "\n",
    "# c = \n",
    "print(\"C: {}\".format(c))\n",
    "\n",
    "array_example = np.array([[3., 4.], [9, 0.]])\n",
    "# d = \n",
    "print(\"D: {}\".format(d))"
   ]
  },
  {
   "cell_type": "markdown",
   "metadata": {},
   "source": [
    "## astype\n",
    "\n",
    "The [`astype` method](https://numpy.org/doc/stable/reference/generated/numpy.ndarray.astype.html) will convert one data type to another. Also note that `astype` will __create a new copy of the input array (even if the data type is same)__. \n",
    "\n",
    "**Exercice** : convert the array below into `int` type. "
   ]
  },
  {
   "cell_type": "code",
   "execution_count": 12,
   "metadata": {},
   "outputs": [
    {
     "name": "stdout",
     "output_type": "stream",
     "text": [
      "A: [1.  2.  3.  4.5 6.7], dtype: float64\n",
      "B: [1 2 3 4 6], dtype: int64\n"
     ]
    }
   ],
   "source": [
    "a = np.array([1, 2, 3, 4.5, 6.7])\n",
    "print(\"A: {}, dtype: {}\".format(a, a.dtype))\n",
    "# b = \n",
    "print(\"B: {}, dtype: {}\".format(b, b.dtype))"
   ]
  },
  {
   "cell_type": "markdown",
   "metadata": {},
   "source": [
    "## Vectorization and vector-scalar operations\n",
    "\n",
    "Utilizing for loops in code not only introduces error vulnerabilities but also proves inefficient. A more effective approach involves leveraging NumPy operations to replace these for loops, a technique known as vectorization.\n",
    "\n",
    "#### Using operations on same sized arrays produce element wise operations. \n",
    "\n",
    "It is possible to do basic operations with numpy\n",
    "\n",
    "**Exercice** : create additions, substractions, multiplications out of the two arrays below"
   ]
  },
  {
   "cell_type": "code",
   "execution_count": 40,
   "metadata": {},
   "outputs": [
    {
     "name": "stdout",
     "output_type": "stream",
     "text": [
      "[[5 7 9]\n",
      " [5 7 9]]\n",
      "[[ 4 10 18]\n",
      " [ 4 10 18]]\n",
      "[[-3 -3 -3]\n",
      " [ 3  3  3]]\n"
     ]
    }
   ],
   "source": [
    "a = np.array([[1, 2, 3], [4, 5, 6]])\n",
    "b = np.array([[4, 5, 6], [1, 2, 3]])\n",
    "\n",
    "# Addition\n",
    "c = \n",
    "print(c)\n",
    "\n",
    "# Substraction\n",
    "d = \n",
    "print(d)\n",
    "\n",
    "# Multiplication\n",
    "e = \n",
    "print(e)"
   ]
  },
  {
   "cell_type": "markdown",
   "metadata": {},
   "source": [
    "Using scalars with vectors will produce element wise operations\n",
    "\n",
    "**Exercice** : create addition, substraction, multiplication, division out of the two arrays below"
   ]
  },
  {
   "cell_type": "code",
   "execution_count": 13,
   "metadata": {},
   "outputs": [
    {
     "name": "stdout",
     "output_type": "stream",
     "text": [
      "[[4 5 6]\n",
      " [7 8 9]]\n",
      "[[ 2  1  0]\n",
      " [-1 -2 -3]]\n",
      "[[ 3  6  9]\n",
      " [12 15 18]]\n",
      "[[3.   1.5  1.  ]\n",
      " [0.75 0.6  0.5 ]]\n"
     ]
    }
   ],
   "source": [
    "a = 3\n",
    "b = np.array([[1, 2, 3], [4, 5, 6]])\n",
    "\n",
    "# c = \n",
    "print(c)\n",
    "\n",
    "# d = \n",
    "print(d)\n",
    "\n",
    "# e = \n",
    "print(e)\n",
    "\n",
    "# f = \n",
    "print(f)"
   ]
  },
  {
   "cell_type": "markdown",
   "metadata": {},
   "source": [
    "## Slicing \n",
    "\n",
    "In NumPy, [slicing](https://numpy.org/doc/stable/user/basics.indexing.html#slicing-and-striding) refers to extracting a portion of an array by specifying a range of indices. It allows you to create a new view of the array without copying data, facilitating efficient access and manipulation of specific elements or subarrays. Slicing in NumPy involves using the colon (`:`) operator to define the start, stop, and step parameters for the desired selection.\n",
    "\n",
    "You can slice by following the syntax:\n",
    "```\n",
    "array[start_index:end_index] \n",
    "```\n",
    "For n-dimensional array, you can slice with:\n",
    "```\n",
    "array[start_index:end_index, start_index:end_index] \n",
    "```"
   ]
  },
  {
   "cell_type": "markdown",
   "metadata": {},
   "source": [
    "Slicing NumPy arrays is similar to that of Python lists. One main distinction in Python list and NumPy array is that the slice __is not the copy, but the original array. Hence, if any operations on the slice will be reflected in the original array.__\n",
    "\n",
    "**Exercice** : slice the array below and assign to indexes from 10 to 15 the value 5."
   ]
  },
  {
   "cell_type": "code",
   "execution_count": 14,
   "metadata": {},
   "outputs": [
    {
     "name": "stdout",
     "output_type": "stream",
     "text": [
      "[ 0  1  2  3  4  5  6  7  8  9 10 11 12 13 14 15 16 17 18 19]\n",
      "[ 0  1  2  3  4  5  6  7  8  9  5  5  5  5  5 15 16 17 18 19]\n"
     ]
    }
   ],
   "source": [
    "a = np.arange(20)\n",
    "print(a)\n",
    "### \n",
    "print(a)"
   ]
  },
  {
   "cell_type": "markdown",
   "metadata": {},
   "source": [
    "If you want to avoid above scenario, you can use `copy()`\n",
    "\n",
    "**Exercice**: use the function `copy()` to create a separate array"
   ]
  },
  {
   "cell_type": "code",
   "execution_count": 6,
   "metadata": {},
   "outputs": [
    {
     "name": "stdout",
     "output_type": "stream",
     "text": [
      "[ 0  1  2  3  4  5  6  7  8  9 10 11 12 13 14 15 16 17 18 19]\n",
      "[ 0  1  2  3  4  5  6  7  8  9 10 11 12 13 14 15 16 17 18 19]\n"
     ]
    }
   ],
   "source": [
    "a = np.arange(20)\n",
    "print(a)\n",
    "# b = \n",
    "b = 5\n",
    "# value in the original array doesn't change\n",
    "print(a)"
   ]
  },
  {
   "cell_type": "markdown",
   "metadata": {},
   "source": [
    "Slicing by `:` will take the entire axis. So:\n",
    "```\n",
    "1. arr2d[:, 0]         Will return array of shape (3, )\n",
    "2. arr2d[:, :1]        Will return array of shape (3, 1)\n",
    "```"
   ]
  },
  {
   "cell_type": "code",
   "execution_count": 23,
   "metadata": {},
   "outputs": [
    {
     "data": {
      "text/plain": [
       "array([1, 4, 7])"
      ]
     },
     "execution_count": 23,
     "metadata": {},
     "output_type": "execute_result"
    }
   ],
   "source": [
    "arr2d = np.array([[1, 2, 3], \n",
    "                  [4, 5, 6], \n",
    "                  [7, 8, 9]])\n",
    "arr2d[:, 0]"
   ]
  },
  {
   "cell_type": "markdown",
   "metadata": {},
   "source": [
    "## Boolean indexing\n",
    "\n",
    "[Boolean indexing](https://numpy.org/doc/stable/user/basics.indexing.html#boolean-array-indexing) in NumPy involves using boolean arrays to select elements based on a specified condition. This method creates a new array containing only the elements that satisfy the given boolean condition. It provides a powerful and concise way to filter and manipulate data within NumPy arrays.\n",
    "\n",
    "Using boolean indexing, you can use it to filter or check if any entries have any specific values. \n",
    "\n",
    "**Exercice** : use boolean indexing to create a boolean arrays (we call them masks) for indexing."
   ]
  },
  {
   "cell_type": "code",
   "execution_count": 16,
   "metadata": {},
   "outputs": [
    {
     "name": "stdout",
     "output_type": "stream",
     "text": [
      "[ True False False False False]\n"
     ]
    }
   ],
   "source": [
    "a = np.array([\"Mayur\", \"is\", \"an\", \"awesome\", \"coder\"])\n",
    "mask = (a == \"Mayur\")\n",
    "print(mask) # Returns boolean array"
   ]
  },
  {
   "cell_type": "markdown",
   "metadata": {},
   "source": [
    "**Exercice**: obtain an array from the array `a` that has all values except \"Mayur\""
   ]
  },
  {
   "cell_type": "code",
   "execution_count": 17,
   "metadata": {},
   "outputs": [
    {
     "data": {
      "text/plain": [
       "array(['is', 'an', 'awesome', 'coder'], dtype='<U7')"
      ]
     },
     "execution_count": 17,
     "metadata": {},
     "output_type": "execute_result"
    }
   ],
   "source": [
    "# lists entry where value != \"Mayur\" \n",
    "#"
   ]
  },
  {
   "cell_type": "markdown",
   "metadata": {},
   "source": [
    "__You can use `|` for `or` and `&` for `and` but not Python's `and`, `or` will not work with NumPy's indexing. __\n",
    "\n",
    "**Exercice**: create booleans masks with the or and and logical conditions, on variables \"Mayur\" and \"coder\""
   ]
  },
  {
   "cell_type": "code",
   "execution_count": 18,
   "metadata": {},
   "outputs": [
    {
     "data": {
      "text/plain": [
       "array([ True, False, False, False,  True])"
      ]
     },
     "execution_count": 18,
     "metadata": {},
     "output_type": "execute_result"
    }
   ],
   "source": []
  },
  {
   "cell_type": "code",
   "execution_count": 19,
   "metadata": {},
   "outputs": [
    {
     "data": {
      "text/plain": [
       "array([False, False, False, False, False])"
      ]
     },
     "execution_count": 19,
     "metadata": {},
     "output_type": "execute_result"
    }
   ],
   "source": []
  },
  {
   "cell_type": "markdown",
   "metadata": {},
   "source": [
    "## Transposing\n",
    "\n",
    "You can obtains the [transpose](https://numpy.org/doc/stable/reference/generated/numpy.transpose.html) of your matring using `matrix.T` where `matrix` is your matrix name. \n",
    "\n",
    "**Exercice**: create the transposition of the matrix below"
   ]
  },
  {
   "cell_type": "code",
   "execution_count": 20,
   "metadata": {},
   "outputs": [
    {
     "name": "stdout",
     "output_type": "stream",
     "text": [
      "[[1 2 3 4]\n",
      " [1 2 3 4]\n",
      " [1 2 3 4]]\n"
     ]
    }
   ],
   "source": [
    "a = np.array([[1, 1, 1], [2, 2, 2], [3, 3, 3], [4, 4, 4]])\n"
   ]
  },
  {
   "cell_type": "markdown",
   "metadata": {},
   "source": [
    "## Matrix multiplication\n",
    "\n",
    "In NumPy, matrix multiplication can be performed using the [`np.dot()`](https://numpy.org/doc/stable/reference/generated/numpy.dot.html) function or the `@` operator. You need to check that the shapes are compatible.\n",
    "\n",
    "**Exercice**: do the matrix multiplication"
   ]
  },
  {
   "cell_type": "code",
   "execution_count": null,
   "metadata": {},
   "outputs": [],
   "source": [
    "a = np.array([[1, 2], [3, 4]])\n",
    "b = np.array([[5, 6], [7, 8]])\n",
    "\n",
    "# Matrix multiplication using np.dot() or @\n",
    "result_dot = "
   ]
  },
  {
   "cell_type": "markdown",
   "metadata": {},
   "source": [
    "## Universal Functions\n",
    "NumPy has variety of functions that can be applied to scalars as well as vectors. Some examples are sqrt, exp, log, log10, sin, cos, arcsin etc. "
   ]
  },
  {
   "cell_type": "code",
   "execution_count": 21,
   "metadata": {},
   "outputs": [
    {
     "name": "stdout",
     "output_type": "stream",
     "text": [
      "485165195.4097903\n",
      "[[1.20490523 1.76000102]\n",
      " [1.01048349 2.70105749]]\n"
     ]
    }
   ],
   "source": [
    "a = 20\n",
    "b = np.random.rand(2, 2)\n",
    "print(np.exp(a))\n",
    "print(np.exp(b))"
   ]
  },
  {
   "cell_type": "markdown",
   "metadata": {},
   "source": [
    "**Exercice**: create other examples with sqrt, log, sin"
   ]
  },
  {
   "cell_type": "code",
   "execution_count": null,
   "metadata": {},
   "outputs": [],
   "source": []
  },
  {
   "cell_type": "markdown",
   "metadata": {},
   "source": [
    "## meshgrid\n",
    "\n",
    "One of the most useful function is [meshgrid](https://numpy.org/doc/stable/reference/generated/numpy.meshgrid.html). It's used to visualize data boundaries of your classifier. What you do is train your classifier, then create a meshgrid of every pixel in the plot, and then classify the pixel. When you give the pixel a specific color according to the labelled class you can clearly visualize the boundaries. \n",
    "\n",
    "Using meshgrid requires three steps. \n",
    "1. Create xs (1D array)\n",
    "2. Create ys (1D array)\n",
    "3. Create meshgrid (2D array) which corresponds to every pixel in the graph.  "
   ]
  },
  {
   "cell_type": "code",
   "execution_count": 23,
   "metadata": {},
   "outputs": [
    {
     "name": "stdout",
     "output_type": "stream",
     "text": [
      "[[ 1.          1.09090909  1.18181818 ...  9.81818182  9.90909091\n",
      "  10.        ]\n",
      " [ 1.          1.09090909  1.18181818 ...  9.81818182  9.90909091\n",
      "  10.        ]\n",
      " [ 1.          1.09090909  1.18181818 ...  9.81818182  9.90909091\n",
      "  10.        ]\n",
      " ...\n",
      " [ 1.          1.09090909  1.18181818 ...  9.81818182  9.90909091\n",
      "  10.        ]\n",
      " [ 1.          1.09090909  1.18181818 ...  9.81818182  9.90909091\n",
      "  10.        ]\n",
      " [ 1.          1.09090909  1.18181818 ...  9.81818182  9.90909091\n",
      "  10.        ]] [[ 1.          1.          1.         ...  1.          1.\n",
      "   1.        ]\n",
      " [ 1.09090909  1.09090909  1.09090909 ...  1.09090909  1.09090909\n",
      "   1.09090909]\n",
      " [ 1.18181818  1.18181818  1.18181818 ...  1.18181818  1.18181818\n",
      "   1.18181818]\n",
      " ...\n",
      " [ 9.81818182  9.81818182  9.81818182 ...  9.81818182  9.81818182\n",
      "   9.81818182]\n",
      " [ 9.90909091  9.90909091  9.90909091 ...  9.90909091  9.90909091\n",
      "   9.90909091]\n",
      " [10.         10.         10.         ... 10.         10.\n",
      "  10.        ]]\n"
     ]
    }
   ],
   "source": [
    "xs = np.linspace(1, 10, 100)\n",
    "ys = np.linspace(1, 10, 100)\n",
    "xx, yy = np.meshgrid(xs, ys)\n",
    "# plot with xx and yy\n",
    "print(xx, yy)"
   ]
  },
  {
   "cell_type": "markdown",
   "metadata": {},
   "source": [
    "# where\n",
    "\n",
    "[`np.where` is a NumPy function](https://numpy.org/doc/stable/reference/generated/numpy.where.html) that returns the indices where a specified condition is true in an array, allowing for conditional selection or assignment of values. Concretly, if you have 3 arrays x, y, and condition then, `np.where` is replacement for using:\n",
    "```\n",
    "if condition: \n",
    "    use x\n",
    "else:\n",
    "    use y\n",
    "```"
   ]
  },
  {
   "cell_type": "code",
   "execution_count": 24,
   "metadata": {},
   "outputs": [
    {
     "data": {
      "text/plain": [
       "array([ 1,  3,  4, 11,  2,  3])"
      ]
     },
     "execution_count": 24,
     "metadata": {},
     "output_type": "execute_result"
    }
   ],
   "source": [
    "x = [0, -1, 2, 3, -4, -5]\n",
    "y = [9, 3, 4, 11, 2, 3]\n",
    "condition = [True, False, True, True, False, True]\n",
    "np.where(x, y, condition)"
   ]
  },
  {
   "cell_type": "markdown",
   "metadata": {},
   "source": [
    "**Exercice**: create a condition `x<y` and apply it to the previous arrays `x` and `y`"
   ]
  },
  {
   "cell_type": "code",
   "execution_count": null,
   "metadata": {},
   "outputs": [],
   "source": []
  },
  {
   "cell_type": "markdown",
   "metadata": {},
   "source": [
    "## mean, sum, std\n",
    "NumPy provides variety of functions for statistical use. You can furthermore specify the axis you want to reduce. \n",
    "\n",
    "**Exercice**: Use the [np.mean](https://numpy.org/doc/stable/reference/generated/numpy.mean.html), [np.sum](https://numpy.org/doc/stable/reference/generated/numpy.sum.html) and [np.std](https://numpy.org/doc/stable/reference/generated/numpy.std.html) functions on the array below "
   ]
  },
  {
   "cell_type": "code",
   "execution_count": 78,
   "metadata": {},
   "outputs": [
    {
     "name": "stdout",
     "output_type": "stream",
     "text": [
      "[[ 0.47420622  0.43247366  0.93400638]\n",
      " [ 0.75673826  0.02606293  0.96672388]\n",
      " [ 0.00133784  0.89357209  0.08779815]]\n",
      "0.508102157536\n",
      "0.508102157536\n",
      "0.376361414067\n"
     ]
    }
   ],
   "source": [
    "a = np.random.rand(3, 3)\n",
    "###"
   ]
  }
 ],
 "metadata": {
  "kernelspec": {
   "display_name": "Python 3 (ipykernel)",
   "language": "python",
   "name": "python3"
  },
  "language_info": {
   "codemirror_mode": {
    "name": "ipython",
    "version": 3
   },
   "file_extension": ".py",
   "mimetype": "text/x-python",
   "name": "python",
   "nbconvert_exporter": "python",
   "pygments_lexer": "ipython3",
   "version": "3.9.18"
  }
 },
 "nbformat": 4,
 "nbformat_minor": 4
}
